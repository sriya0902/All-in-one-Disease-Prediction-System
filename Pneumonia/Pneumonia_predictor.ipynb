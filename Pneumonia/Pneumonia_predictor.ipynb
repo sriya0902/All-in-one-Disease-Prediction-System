{
 "cells": [
  {
   "cell_type": "markdown",
   "id": "346e0377",
   "metadata": {},
   "source": [
    "# Pneumonia Classification Using CNN"
   ]
  },
  {
   "cell_type": "code",
   "execution_count": 8,
   "id": "985e68f3",
   "metadata": {},
   "outputs": [],
   "source": [
    "import numpy as np                                                   \n",
    "import tensorflow                                                    \n",
    "from tensorflow.keras.models import Sequential                        \n",
    "from tensorflow.keras import layers                  \n",
    "from tensorflow.keras.layers import Activation,Dense,Flatten,Dropout\n",
    "from tensorflow.keras.layers import Conv2D,MaxPooling2D                 \n",
    "from keras.preprocessing.image import ImageDataGenerator"
   ]
  },
  {
   "cell_type": "code",
   "execution_count": 2,
   "id": "798805d1",
   "metadata": {},
   "outputs": [],
   "source": [
    "from keras import backend as K\n",
    "import os"
   ]
  },
  {
   "cell_type": "code",
   "execution_count": 3,
   "id": "09847daf",
   "metadata": {},
   "outputs": [],
   "source": [
    "img_width, img_height = 150, 150"
   ]
  },
  {
   "cell_type": "code",
   "execution_count": 20,
   "id": "ee7970e0",
   "metadata": {},
   "outputs": [],
   "source": [
    "train_data_dir = 'C:/Users/Kkira/OneDrive/Desktop/mini project/Pneumonia/chest_xray/train'\n",
    "test_data_dir = 'C:/Users/Kkira/OneDrive/Desktop/mini project/Pneumonia/chest_xray/test'\n",
    "\n",
    "nb_train_samples = 5233\n",
    "nb_validation_samples= 625\n",
    "epochs = 20\n",
    "batch_size = 16"
   ]
  },
  {
   "cell_type": "code",
   "execution_count": 6,
   "id": "29af7942",
   "metadata": {},
   "outputs": [],
   "source": [
    "if K.image_data_format() == 'channels_first':\n",
    "    input_shape = (3, img_width, img_height)\n",
    "else:\n",
    "    input_shape = (img_width, img_height, 3)"
   ]
  },
  {
   "cell_type": "code",
   "execution_count": 9,
   "id": "660b2aa9",
   "metadata": {},
   "outputs": [],
   "source": [
    "model = Sequential()\n",
    "model.add(Conv2D(32, (3, 3), input_shape=input_shape))\n",
    "model.add(Activation('relu'))\n",
    "model.add(MaxPooling2D(pool_size=(2, 2)))\n",
    "\n",
    "model.add(Conv2D(32, (3, 3)))\n",
    "model.add(Activation('relu'))\n",
    "model.add(MaxPooling2D(pool_size=(2, 2)))\n",
    "\n",
    "model.add(Conv2D(64, (3, 3)))\n",
    "model.add(Activation('relu'))\n",
    "model.add(MaxPooling2D(pool_size=(2, 2)))\n",
    "\n",
    "model.add(Flatten())\n",
    "model.add(Dense(64))\n",
    "model.add(Activation('relu'))\n",
    "model.add(Dropout(0.5))\n",
    "model.add(Dense(1))\n",
    "model.add(Activation('sigmoid'))"
   ]
  },
  {
   "cell_type": "code",
   "execution_count": 10,
   "id": "8859afc5",
   "metadata": {},
   "outputs": [
    {
     "data": {
      "text/plain": [
       "<KerasTensor: shape=(None, 150, 150, 3) dtype=float32 (created by layer 'conv2d_1_input')>"
      ]
     },
     "execution_count": 10,
     "metadata": {},
     "output_type": "execute_result"
    }
   ],
   "source": [
    "model.input"
   ]
  },
  {
   "cell_type": "code",
   "execution_count": 11,
   "id": "56cc840a",
   "metadata": {},
   "outputs": [
    {
     "data": {
      "text/plain": [
       "<KerasTensor: shape=(None, 1) dtype=float32 (created by layer 'activation_4')>"
      ]
     },
     "execution_count": 11,
     "metadata": {},
     "output_type": "execute_result"
    }
   ],
   "source": [
    "model.output"
   ]
  },
  {
   "cell_type": "code",
   "execution_count": 12,
   "id": "e4b45af7",
   "metadata": {},
   "outputs": [
    {
     "data": {
      "text/plain": [
       "[<keras.layers.convolutional.conv2d.Conv2D at 0x14e6c050700>,\n",
       " <keras.layers.core.activation.Activation at 0x14e5fef4ee0>,\n",
       " <keras.layers.pooling.max_pooling2d.MaxPooling2D at 0x14e6c1dda60>,\n",
       " <keras.layers.convolutional.conv2d.Conv2D at 0x14e6c110610>,\n",
       " <keras.layers.core.activation.Activation at 0x14e6c0c5370>,\n",
       " <keras.layers.pooling.max_pooling2d.MaxPooling2D at 0x14e6c1d84f0>,\n",
       " <keras.layers.convolutional.conv2d.Conv2D at 0x14e6bd52c10>,\n",
       " <keras.layers.core.activation.Activation at 0x14e6bfcb0a0>,\n",
       " <keras.layers.pooling.max_pooling2d.MaxPooling2D at 0x14e6ca09f10>,\n",
       " <keras.layers.reshaping.flatten.Flatten at 0x14e6ca118b0>,\n",
       " <keras.layers.core.dense.Dense at 0x14e6ca09d00>,\n",
       " <keras.layers.core.activation.Activation at 0x14e6ca25370>,\n",
       " <keras.layers.regularization.dropout.Dropout at 0x14e6ca25880>,\n",
       " <keras.layers.core.dense.Dense at 0x14e6ca31eb0>,\n",
       " <keras.layers.core.activation.Activation at 0x14e6ca3cf40>]"
      ]
     },
     "execution_count": 12,
     "metadata": {},
     "output_type": "execute_result"
    }
   ],
   "source": [
    "model.layers"
   ]
  },
  {
   "cell_type": "code",
   "execution_count": 13,
   "id": "e86eb1ca",
   "metadata": {},
   "outputs": [],
   "source": [
    "model.compile(loss='binary_crossentropy',\n",
    "              optimizer='rmsprop',\n",
    "              metrics=['accuracy'])"
   ]
  },
  {
   "cell_type": "code",
   "execution_count": 14,
   "id": "bd4c78c7",
   "metadata": {},
   "outputs": [],
   "source": [
    "train_datagen = ImageDataGenerator(\n",
    "    rescale=1. / 255,\n",
    "    shear_range=0.2,\n",
    "    zoom_range=0.2,\n",
    "    horizontal_flip=True)"
   ]
  },
  {
   "cell_type": "code",
   "execution_count": 15,
   "id": "b9cce829",
   "metadata": {},
   "outputs": [],
   "source": [
    "test_datagen = ImageDataGenerator(rescale=1. / 255)"
   ]
  },
  {
   "cell_type": "code",
   "execution_count": 16,
   "id": "191d25cb",
   "metadata": {},
   "outputs": [
    {
     "name": "stdout",
     "output_type": "stream",
     "text": [
      "Found 5232 images belonging to 2 classes.\n"
     ]
    }
   ],
   "source": [
    "train_generator = train_datagen.flow_from_directory(\n",
    "    train_data_dir,\n",
    "    target_size=(img_width, img_height),\n",
    "    batch_size=batch_size,\n",
    "    class_mode='binary')"
   ]
  },
  {
   "cell_type": "code",
   "execution_count": 17,
   "id": "36a1b837",
   "metadata": {},
   "outputs": [
    {
     "name": "stdout",
     "output_type": "stream",
     "text": [
      "Found 624 images belonging to 2 classes.\n"
     ]
    }
   ],
   "source": [
    "test_generator = test_datagen.flow_from_directory(\n",
    "    test_data_dir,\n",
    "    target_size=(img_width, img_height),\n",
    "    batch_size=batch_size,\n",
    "    class_mode='binary')"
   ]
  },
  {
   "cell_type": "code",
   "execution_count": 21,
   "id": "466a7c52",
   "metadata": {},
   "outputs": [
    {
     "name": "stderr",
     "output_type": "stream",
     "text": [
      "C:\\Users\\Kkira\\AppData\\Local\\Temp\\ipykernel_6848\\1267628536.py:1: UserWarning: `Model.fit_generator` is deprecated and will be removed in a future version. Please use `Model.fit`, which supports generators.\n",
      "  model.fit_generator(\n"
     ]
    },
    {
     "name": "stdout",
     "output_type": "stream",
     "text": [
      "Epoch 1/20\n",
      "327/327 [==============================] - 1209s 4s/step - loss: 0.4740 - accuracy: 0.7989\n",
      "Epoch 2/20\n",
      "327/327 [==============================] - 994s 3s/step - loss: 0.2845 - accuracy: 0.8853\n",
      "Epoch 3/20\n",
      "327/327 [==============================] - 860s 3s/step - loss: 0.2584 - accuracy: 0.9002\n",
      "Epoch 4/20\n",
      "327/327 [==============================] - 861s 3s/step - loss: 0.2204 - accuracy: 0.9186\n",
      "Epoch 5/20\n",
      "327/327 [==============================] - 1083s 3s/step - loss: 0.2196 - accuracy: 0.9249\n",
      "Epoch 6/20\n",
      "327/327 [==============================] - 910s 3s/step - loss: 0.2039 - accuracy: 0.9293\n",
      "Epoch 7/20\n",
      "327/327 [==============================] - 756s 2s/step - loss: 0.2108 - accuracy: 0.9304\n",
      "Epoch 8/20\n",
      "327/327 [==============================] - 774s 2s/step - loss: 0.1991 - accuracy: 0.9354\n",
      "Epoch 9/20\n",
      "327/327 [==============================] - 1016s 3s/step - loss: 0.2009 - accuracy: 0.9299\n",
      "Epoch 10/20\n",
      "327/327 [==============================] - 909s 3s/step - loss: 0.2067 - accuracy: 0.9331\n",
      "Epoch 11/20\n",
      "327/327 [==============================] - 793s 2s/step - loss: 0.1997 - accuracy: 0.9386\n",
      "Epoch 12/20\n",
      "327/327 [==============================] - 745s 2s/step - loss: 0.2019 - accuracy: 0.9341\n",
      "Epoch 13/20\n",
      "327/327 [==============================] - 947s 3s/step - loss: 0.1877 - accuracy: 0.9356\n",
      "Epoch 14/20\n",
      "327/327 [==============================] - 951s 3s/step - loss: 0.1790 - accuracy: 0.9385\n",
      "Epoch 15/20\n",
      "327/327 [==============================] - 811s 2s/step - loss: 0.2009 - accuracy: 0.9394\n",
      "Epoch 16/20\n",
      "327/327 [==============================] - 752s 2s/step - loss: 0.1899 - accuracy: 0.9381\n",
      "Epoch 17/20\n",
      "327/327 [==============================] - 906s 3s/step - loss: 0.1858 - accuracy: 0.9381\n",
      "Epoch 18/20\n",
      "327/327 [==============================] - 984s 3s/step - loss: 0.1876 - accuracy: 0.9394\n",
      "Epoch 19/20\n",
      "327/327 [==============================] - 833s 3s/step - loss: 0.1898 - accuracy: 0.9413\n",
      "Epoch 20/20\n",
      "327/327 [==============================] - 777s 2s/step - loss: 0.1761 - accuracy: 0.9409\n"
     ]
    },
    {
     "data": {
      "text/plain": [
       "<keras.callbacks.History at 0x14e6cc91610>"
      ]
     },
     "execution_count": 21,
     "metadata": {},
     "output_type": "execute_result"
    }
   ],
   "source": [
    "model.fit_generator(\n",
    "    train_generator,\n",
    "    steps_per_epoch=nb_train_samples // batch_size,\n",
    "    epochs=epochs,\n",
    "    validation_steps=nb_validation_samples // batch_size)"
   ]
  },
  {
   "cell_type": "code",
   "execution_count": 22,
   "id": "488967a2",
   "metadata": {},
   "outputs": [],
   "source": [
    "model.save('Pneumonia.h5')"
   ]
  },
  {
   "cell_type": "code",
   "execution_count": 23,
   "id": "9ebfa835",
   "metadata": {},
   "outputs": [],
   "source": [
    "from tensorflow.keras.models import load_model\n",
    "from keras.preprocessing import image\n",
    "model = load_model(\"Pneumonia.h5\") "
   ]
  },
  {
   "cell_type": "code",
   "execution_count": 45,
   "id": "f26eb59b",
   "metadata": {},
   "outputs": [
    {
     "name": "stdout",
     "output_type": "stream",
     "text": [
      "1/1 [==============================] - 0s 141ms/step\n"
     ]
    },
    {
     "data": {
      "text/plain": [
       "0.329975"
      ]
     },
     "execution_count": 45,
     "metadata": {},
     "output_type": "execute_result"
    }
   ],
   "source": [
    "img = tensorflow.keras.utils.load_img(r\"C:\\Users\\Kkira\\OneDrive\\Desktop\\mini project\\Pneumonia\\chest_xray\\test\\NORMAL\\IM-0006-0001.jpeg\",target_size= (150,150))#loading of the image\n",
    "x = tensorflow.keras.utils.img_to_array(img)#image to array\n",
    "x = np.expand_dims(x,axis = 0)#changing the shape\n",
    "x = x * 1.0 / 255\n",
    "pred = model.predict(x)\n",
    "#classes_x=np.argmax(pred,axis=1)#predicting the classes\n",
    "#classes_x\n",
    "pred[0][0]"
   ]
  },
  {
   "cell_type": "code",
   "execution_count": 48,
   "id": "292af07c",
   "metadata": {},
   "outputs": [],
   "source": [
    "index = ['Normal', 'pneumonia']"
   ]
  },
  {
   "cell_type": "code",
   "execution_count": 46,
   "id": "fd84b0fc",
   "metadata": {},
   "outputs": [],
   "source": [
    "if pred>0.50:\n",
    "    classes_x = index[1]\n",
    "else:\n",
    "    classes_x = index[0]"
   ]
  },
  {
   "cell_type": "code",
   "execution_count": 47,
   "id": "85b87932",
   "metadata": {},
   "outputs": [
    {
     "data": {
      "text/plain": [
       "'Normal'"
      ]
     },
     "execution_count": 47,
     "metadata": {},
     "output_type": "execute_result"
    }
   ],
   "source": [
    "classes_x"
   ]
  },
  {
   "cell_type": "code",
   "execution_count": 61,
   "id": "8419cbd4",
   "metadata": {},
   "outputs": [
    {
     "name": "stdout",
     "output_type": "stream",
     "text": [
      "1/1 [==============================] - 1s 515ms/step\n"
     ]
    },
    {
     "data": {
      "text/plain": [
       "0.9969387"
      ]
     },
     "execution_count": 61,
     "metadata": {},
     "output_type": "execute_result"
    }
   ],
   "source": [
    "img = tensorflow.keras.utils.load_img(r\"C:\\Users\\Kkira\\OneDrive\\Desktop\\mini project\\Pneumonia\\chest_xray\\test\\PNEUMONIA\\person14_virus_44.jpeg\",target_size= (150,150))#loading of the image\n",
    "x = tensorflow.keras.utils.img_to_array(img)#image to array\n",
    "x = np.expand_dims(x,axis = 0)#changing the shape\n",
    "x = x * 1.0 / 255\n",
    "pred = model.predict(x)\n",
    "pred[0][0]\n",
    "#classes_x=np.argmax(pred,axis=1)#predicting the classes\n",
    "#classes_x"
   ]
  },
  {
   "cell_type": "code",
   "execution_count": 44,
   "id": "fb915cf3",
   "metadata": {},
   "outputs": [
    {
     "data": {
      "text/plain": [
       "'pneumonia'"
      ]
     },
     "execution_count": 44,
     "metadata": {},
     "output_type": "execute_result"
    }
   ],
   "source": [
    "classes_x"
   ]
  },
  {
   "cell_type": "code",
   "execution_count": 55,
   "id": "97e47c22",
   "metadata": {},
   "outputs": [
    {
     "name": "stdout",
     "output_type": "stream",
     "text": [
      "1/1 [==============================] - 0s 94ms/step\n"
     ]
    },
    {
     "data": {
      "text/plain": [
       "0.46824244"
      ]
     },
     "execution_count": 55,
     "metadata": {},
     "output_type": "execute_result"
    }
   ],
   "source": [
    "img = tensorflow.keras.utils.load_img(r\"C:\\Users\\Kkira\\OneDrive\\Desktop\\mini project\\Pneumonia\\chest_xray\\test\\NORMAL\\IM-0081-0001.jpeg\",target_size= (150,150))#loading of the image\n",
    "x = tensorflow.keras.utils.img_to_array(img)#image to array\n",
    "x = np.expand_dims(x,axis = 0)#changing the shape\n",
    "x = x * 1.0 / 255\n",
    "pred = model.predict(x)\n",
    "#classes_x=np.argmax(pred,axis=1)#predicting the classes\n",
    "#classes_x\n",
    "pred[0][0]"
   ]
  },
  {
   "cell_type": "code",
   "execution_count": 56,
   "id": "49596d67",
   "metadata": {},
   "outputs": [],
   "source": [
    "if pred>0.50:\n",
    "    classes_x = index[1]\n",
    "else:\n",
    "    classes_x = index[0]"
   ]
  },
  {
   "cell_type": "code",
   "execution_count": 57,
   "id": "19b45dfa",
   "metadata": {},
   "outputs": [
    {
     "data": {
      "text/plain": [
       "'Normal'"
      ]
     },
     "execution_count": 57,
     "metadata": {},
     "output_type": "execute_result"
    }
   ],
   "source": [
    "classes_x"
   ]
  },
  {
   "cell_type": "code",
   "execution_count": 58,
   "id": "b7cfb3c0",
   "metadata": {},
   "outputs": [
    {
     "name": "stdout",
     "output_type": "stream",
     "text": [
      "1/1 [==============================] - 0s 78ms/step\n"
     ]
    },
    {
     "data": {
      "text/plain": [
       "0.993534"
      ]
     },
     "execution_count": 58,
     "metadata": {},
     "output_type": "execute_result"
    }
   ],
   "source": [
    "img = tensorflow.keras.utils.load_img(r\"C:\\Users\\Kkira\\OneDrive\\Desktop\\mini project\\Pneumonia\\chest_xray\\test\\PNEUMONIA\\person125_bacteria_594.jpeg\",target_size= (150,150))#loading of the image\n",
    "x = tensorflow.keras.utils.img_to_array(img)#image to array\n",
    "x = np.expand_dims(x,axis = 0)#changing the shape\n",
    "x = x * 1.0 / 255\n",
    "pred = model.predict(x)\n",
    "pred[0][0]\n",
    "#classes_x=np.argmax(pred,axis=1)#predicting the classes\n",
    "#classes_x"
   ]
  },
  {
   "cell_type": "code",
   "execution_count": 59,
   "id": "5b36ea0e",
   "metadata": {},
   "outputs": [],
   "source": [
    "if pred>0.50:\n",
    "    classes_x = index[1]\n",
    "else:\n",
    "    classes_x = index[0]"
   ]
  },
  {
   "cell_type": "code",
   "execution_count": 60,
   "id": "02a1b04d",
   "metadata": {},
   "outputs": [
    {
     "data": {
      "text/plain": [
       "'pneumonia'"
      ]
     },
     "execution_count": 60,
     "metadata": {},
     "output_type": "execute_result"
    }
   ],
   "source": [
    "classes_x"
   ]
  },
  {
   "cell_type": "markdown",
   "id": "fcd9f198",
   "metadata": {},
   "source": [
    "# Model Accuracy: 94.09%"
   ]
  },
  {
   "cell_type": "code",
   "execution_count": null,
   "id": "f7265bca",
   "metadata": {},
   "outputs": [],
   "source": []
  }
 ],
 "metadata": {
  "kernelspec": {
   "display_name": "Python 3 (ipykernel)",
   "language": "python",
   "name": "python3"
  },
  "language_info": {
   "codemirror_mode": {
    "name": "ipython",
    "version": 3
   },
   "file_extension": ".py",
   "mimetype": "text/x-python",
   "name": "python",
   "nbconvert_exporter": "python",
   "pygments_lexer": "ipython3",
   "version": "3.9.12"
  }
 },
 "nbformat": 4,
 "nbformat_minor": 5
}
