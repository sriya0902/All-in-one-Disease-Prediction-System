{
 "cells": [
  {
   "cell_type": "markdown",
   "id": "5c9338e5",
   "metadata": {},
   "source": [
    "# Classifying Malarial Cell Images using CNN"
   ]
  },
  {
   "cell_type": "code",
   "execution_count": 11,
   "id": "765d20c3",
   "metadata": {},
   "outputs": [],
   "source": [
    "import numpy as np                                                   \n",
    "import tensorflow                                                    \n",
    "from tensorflow.keras.models import Sequential                        \n",
    "from tensorflow.keras import layers                  \n",
    "from tensorflow.keras.layers import Dense,Flatten,Dropout\n",
    "from tensorflow.keras.layers import Conv2D,MaxPooling2D                 \n",
    "from keras.preprocessing.image import ImageDataGenerator       "
   ]
  },
  {
   "cell_type": "code",
   "execution_count": 2,
   "id": "18e0447d",
   "metadata": {},
   "outputs": [],
   "source": [
    "train_datagen=ImageDataGenerator(\n",
    "    rotation_range=20,\n",
    "    width_shift_range=0.10,\n",
    "    height_shift_range=0.10, \n",
    "    rescale=1/255, \n",
    "    shear_range=0.1, \n",
    "    zoom_range=0.1, \n",
    "    horizontal_flip=True, \n",
    "    fill_mode='nearest') #training"
   ]
  },
  {
   "cell_type": "code",
   "execution_count": 3,
   "id": "a08fa88c",
   "metadata": {},
   "outputs": [],
   "source": [
    "test_datagen=ImageDataGenerator(rescale=1./255) #testing"
   ]
  },
  {
   "cell_type": "code",
   "execution_count": 4,
   "id": "7b19dd76",
   "metadata": {},
   "outputs": [
    {
     "name": "stdout",
     "output_type": "stream",
     "text": [
      "Found 20668 images belonging to 2 classes.\n",
      "Found 6890 images belonging to 2 classes.\n"
     ]
    }
   ],
   "source": [
    "x_train=train_datagen.flow_from_directory(r'C:\\Users\\Kkira\\OneDrive\\Desktop\\mini project\\Malaria\\cell_images\\train'\n",
    "                                          ,target_size=(130,130),batch_size=16,color_mode='rgb',class_mode='binary')\n",
    "\n",
    "x_test=test_datagen.flow_from_directory(r'C:\\Users\\Kkira\\OneDrive\\Desktop\\mini project\\Malaria\\cell_images\\test'\n",
    "                                        ,target_size=(130,130),batch_size=16, color_mode='rgb', shuffle =False, class_mode='binary')"
   ]
  },
  {
   "cell_type": "code",
   "execution_count": 5,
   "id": "e55f7195",
   "metadata": {},
   "outputs": [
    {
     "name": "stdout",
     "output_type": "stream",
     "text": [
      "{'Parasitized': 0, 'Uninfected': 1}\n"
     ]
    }
   ],
   "source": [
    "print(x_train.class_indices) "
   ]
  },
  {
   "cell_type": "code",
   "execution_count": 6,
   "id": "612f2f61",
   "metadata": {},
   "outputs": [
    {
     "data": {
      "text/plain": [
       "Counter({0: 10334, 1: 10334})"
      ]
     },
     "execution_count": 6,
     "metadata": {},
     "output_type": "execute_result"
    }
   ],
   "source": [
    "from collections import Counter as c\n",
    "c(x_train.labels)"
   ]
  },
  {
   "cell_type": "code",
   "execution_count": 7,
   "id": "7431de82",
   "metadata": {},
   "outputs": [
    {
     "data": {
      "text/plain": [
       "Counter({0: 3445, 1: 3445})"
      ]
     },
     "execution_count": 7,
     "metadata": {},
     "output_type": "execute_result"
    }
   ],
   "source": [
    "from collections import Counter as c\n",
    "c(x_test.labels)"
   ]
  },
  {
   "cell_type": "code",
   "execution_count": 8,
   "id": "7d806051",
   "metadata": {},
   "outputs": [
    {
     "name": "stdout",
     "output_type": "stream",
     "text": [
      "{'Parasitized': 0, 'Uninfected': 1}\n"
     ]
    }
   ],
   "source": [
    "print(x_test.class_indices) "
   ]
  },
  {
   "cell_type": "code",
   "execution_count": 12,
   "id": "4455a70d",
   "metadata": {},
   "outputs": [],
   "source": [
    "image_size =(130,130)\n",
    "\n",
    "model = Sequential()\n",
    "\n",
    "model.add(Conv2D(filters=32, kernel_size=(3,3), input_shape=image_size+(3,), activation='relu'))\n",
    "model.add(MaxPooling2D(pool_size=(2,2)))\n",
    "\n",
    "model.add(Conv2D(filters=64, kernel_size=(3,3), input_shape=image_size+(3,), activation='relu'))\n",
    "model.add(MaxPooling2D(pool_size=(2,2)))\n",
    "\n",
    "model.add(Conv2D(filters=64, kernel_size=(3,3), input_shape=image_size+(3,), activation='relu'))\n",
    "model.add(MaxPooling2D(pool_size=(2,2)))\n",
    "\n",
    "model.add(Flatten())\n",
    "\n",
    "model.add(Dense(128, activation='relu'))\n",
    "model.add(Dropout(0.5))\n",
    "\n",
    "model.add(Dense(1, activation='sigmoid'))\n"
   ]
  },
  {
   "cell_type": "code",
   "execution_count": 13,
   "id": "4016caf5",
   "metadata": {},
   "outputs": [
    {
     "name": "stdout",
     "output_type": "stream",
     "text": [
      "Model: \"sequential_2\"\n",
      "_________________________________________________________________\n",
      " Layer (type)                Output Shape              Param #   \n",
      "=================================================================\n",
      " conv2d_3 (Conv2D)           (None, 128, 128, 32)      896       \n",
      "                                                                 \n",
      " max_pooling2d_3 (MaxPooling  (None, 64, 64, 32)       0         \n",
      " 2D)                                                             \n",
      "                                                                 \n",
      " conv2d_4 (Conv2D)           (None, 62, 62, 64)        18496     \n",
      "                                                                 \n",
      " max_pooling2d_4 (MaxPooling  (None, 31, 31, 64)       0         \n",
      " 2D)                                                             \n",
      "                                                                 \n",
      " conv2d_5 (Conv2D)           (None, 29, 29, 64)        36928     \n",
      "                                                                 \n",
      " max_pooling2d_5 (MaxPooling  (None, 14, 14, 64)       0         \n",
      " 2D)                                                             \n",
      "                                                                 \n",
      " flatten_1 (Flatten)         (None, 12544)             0         \n",
      "                                                                 \n",
      " dense_1 (Dense)             (None, 128)               1605760   \n",
      "                                                                 \n",
      " dropout (Dropout)           (None, 128)               0         \n",
      "                                                                 \n",
      " dense_2 (Dense)             (None, 1)                 129       \n",
      "                                                                 \n",
      "=================================================================\n",
      "Total params: 1,662,209\n",
      "Trainable params: 1,662,209\n",
      "Non-trainable params: 0\n",
      "_________________________________________________________________\n"
     ]
    }
   ],
   "source": [
    "model.summary()"
   ]
  },
  {
   "cell_type": "code",
   "execution_count": 14,
   "id": "ac59a6c3",
   "metadata": {},
   "outputs": [],
   "source": [
    "model.compile(loss='binary_crossentropy', optimizer='adam', metrics=['accuracy'])"
   ]
  },
  {
   "cell_type": "code",
   "execution_count": 15,
   "id": "1e14e47d",
   "metadata": {},
   "outputs": [
    {
     "name": "stderr",
     "output_type": "stream",
     "text": [
      "C:\\Users\\Kkira\\AppData\\Local\\Temp\\ipykernel_2864\\482592739.py:1: UserWarning: `Model.fit_generator` is deprecated and will be removed in a future version. Please use `Model.fit`, which supports generators.\n",
      "  model.fit_generator(generator=x_train,steps_per_epoch = len(x_train),\n"
     ]
    },
    {
     "name": "stdout",
     "output_type": "stream",
     "text": [
      "Epoch 1/20\n",
      "1292/1292 [==============================] - 3233s 2s/step - loss: 0.6551 - accuracy: 0.5853 - val_loss: 0.3430 - val_accuracy: 0.8517\n",
      "Epoch 2/20\n",
      "1292/1292 [==============================] - 2630s 2s/step - loss: 0.2438 - accuracy: 0.9194 - val_loss: 0.1560 - val_accuracy: 0.9409\n",
      "Epoch 3/20\n",
      "1292/1292 [==============================] - 2663s 2s/step - loss: 0.1878 - accuracy: 0.9407 - val_loss: 0.1494 - val_accuracy: 0.9531\n",
      "Epoch 4/20\n",
      "1292/1292 [==============================] - 3125s 2s/step - loss: 0.1744 - accuracy: 0.9446 - val_loss: 0.1381 - val_accuracy: 0.9572\n",
      "Epoch 5/20\n",
      "1292/1292 [==============================] - 3077s 2s/step - loss: 0.1677 - accuracy: 0.9462 - val_loss: 0.1358 - val_accuracy: 0.9566\n",
      "Epoch 6/20\n",
      "1292/1292 [==============================] - 2883s 2s/step - loss: 0.1649 - accuracy: 0.9462 - val_loss: 0.1335 - val_accuracy: 0.9578\n",
      "Epoch 7/20\n",
      "1292/1292 [==============================] - 4030s 3s/step - loss: 0.1639 - accuracy: 0.9467 - val_loss: 0.1290 - val_accuracy: 0.9589\n",
      "Epoch 8/20\n",
      "1292/1292 [==============================] - 3963s 3s/step - loss: 0.1589 - accuracy: 0.9483 - val_loss: 0.1256 - val_accuracy: 0.9591\n",
      "Epoch 9/20\n",
      "1292/1292 [==============================] - 3963s 3s/step - loss: 0.1589 - accuracy: 0.9479 - val_loss: 0.1239 - val_accuracy: 0.9585\n",
      "Epoch 10/20\n",
      "1292/1292 [==============================] - 3944s 3s/step - loss: 0.1533 - accuracy: 0.9504 - val_loss: 0.1331 - val_accuracy: 0.9560\n",
      "Epoch 11/20\n",
      "1292/1292 [==============================] - 3766s 3s/step - loss: 0.1549 - accuracy: 0.9499 - val_loss: 0.1271 - val_accuracy: 0.9599\n",
      "Epoch 12/20\n",
      "1292/1292 [==============================] - 2449s 2s/step - loss: 0.1532 - accuracy: 0.9501 - val_loss: 0.1294 - val_accuracy: 0.9572\n",
      "Epoch 13/20\n",
      "1292/1292 [==============================] - 2279s 2s/step - loss: 0.1514 - accuracy: 0.9510 - val_loss: 0.1332 - val_accuracy: 0.9562\n",
      "Epoch 14/20\n",
      "1292/1292 [==============================] - 2436s 2s/step - loss: 0.1510 - accuracy: 0.9509 - val_loss: 0.1213 - val_accuracy: 0.9589\n",
      "Epoch 15/20\n",
      "1292/1292 [==============================] - 2436s 2s/step - loss: 0.1476 - accuracy: 0.9491 - val_loss: 0.1261 - val_accuracy: 0.9575\n",
      "Epoch 16/20\n",
      "1292/1292 [==============================] - 2343s 2s/step - loss: 0.1481 - accuracy: 0.9494 - val_loss: 0.1268 - val_accuracy: 0.9575\n",
      "Epoch 17/20\n",
      "1292/1292 [==============================] - 2300s 2s/step - loss: 0.1518 - accuracy: 0.9511 - val_loss: 0.1239 - val_accuracy: 0.9576\n",
      "Epoch 18/20\n",
      "1292/1292 [==============================] - 2455s 2s/step - loss: 0.1416 - accuracy: 0.9515 - val_loss: 0.1242 - val_accuracy: 0.9591\n",
      "Epoch 19/20\n",
      "1292/1292 [==============================] - 2387s 2s/step - loss: 0.1472 - accuracy: 0.9524 - val_loss: 0.1197 - val_accuracy: 0.9594\n",
      "Epoch 20/20\n",
      "1292/1292 [==============================] - 2463s 2s/step - loss: 0.1442 - accuracy: 0.9521 - val_loss: 0.1281 - val_accuracy: 0.9560\n"
     ]
    },
    {
     "data": {
      "text/plain": [
       "<keras.callbacks.History at 0x1ac87cff7f0>"
      ]
     },
     "execution_count": 15,
     "metadata": {},
     "output_type": "execute_result"
    }
   ],
   "source": [
    "model.fit_generator(generator=x_train,steps_per_epoch = len(x_train),\n",
    "                    epochs=20, validation_data=x_test,validation_steps = len(x_test))"
   ]
  },
  {
   "cell_type": "code",
   "execution_count": 16,
   "id": "3f7b9017",
   "metadata": {},
   "outputs": [],
   "source": [
    "model.save('Malaria.h5')"
   ]
  },
  {
   "cell_type": "code",
   "execution_count": 29,
   "id": "92bda9f9",
   "metadata": {},
   "outputs": [],
   "source": [
    "from tensorflow.keras.models import load_model\n",
    "from keras.preprocessing import image\n",
    "model = load_model(\"Malaria.h5\") "
   ]
  },
  {
   "cell_type": "code",
   "execution_count": 30,
   "id": "7b4f0670",
   "metadata": {},
   "outputs": [],
   "source": [
    "index = ['Parasitized','Uninfected']"
   ]
  },
  {
   "cell_type": "code",
   "execution_count": 31,
   "id": "7c6b645c",
   "metadata": {},
   "outputs": [
    {
     "name": "stdout",
     "output_type": "stream",
     "text": [
      "1/1 [==============================] - 1s 797ms/step\n"
     ]
    },
    {
     "data": {
      "text/plain": [
       "0.0"
      ]
     },
     "execution_count": 31,
     "metadata": {},
     "output_type": "execute_result"
    }
   ],
   "source": [
    "img = tensorflow.keras.utils.load_img(r\"C:\\Users\\Kkira\\OneDrive\\Desktop\\mini project\\Malaria\\cell_images\\test\\Parasitized\\C37BP2_thinF_IMG_20150620_131423a_cell_92.png\",target_size= (130,130))#loading of the image\n",
    "x = tensorflow.keras.utils.img_to_array(img)#image to array\n",
    "x = np.expand_dims(x,axis = 0)#changing the shape\n",
    "pred = model.predict(x)\n",
    "pred[0][0]"
   ]
  },
  {
   "cell_type": "code",
   "execution_count": 32,
   "id": "0b7080c5",
   "metadata": {},
   "outputs": [],
   "source": [
    "if pred>0.50:\n",
    "    classes_x = index[1]\n",
    "else:\n",
    "    classes_x = index[0]"
   ]
  },
  {
   "cell_type": "code",
   "execution_count": 33,
   "id": "7b829592",
   "metadata": {},
   "outputs": [
    {
     "data": {
      "text/plain": [
       "'Parasitized'"
      ]
     },
     "execution_count": 33,
     "metadata": {},
     "output_type": "execute_result"
    }
   ],
   "source": [
    "classes_x"
   ]
  },
  {
   "cell_type": "code",
   "execution_count": 34,
   "id": "1c5f8c06",
   "metadata": {},
   "outputs": [
    {
     "name": "stdout",
     "output_type": "stream",
     "text": [
      "1/1 [==============================] - 3s 3s/step\n"
     ]
    },
    {
     "data": {
      "text/plain": [
       "1.0"
      ]
     },
     "execution_count": 34,
     "metadata": {},
     "output_type": "execute_result"
    }
   ],
   "source": [
    "img = tensorflow.keras.utils.load_img(r\"C:\\Users\\Kkira\\OneDrive\\Desktop\\mini project\\Malaria\\cell_images\\test\\Uninfected\\C3thin_original_IMG_20150608_163029_cell_121.png\",target_size= (130,130))#loading of the image\n",
    "x = tensorflow.keras.utils.img_to_array(img)#image to array\n",
    "x = np.expand_dims(x,axis = 0)#changing the shape\n",
    "pred = model.predict(x)\n",
    "pred[0][0]"
   ]
  },
  {
   "cell_type": "code",
   "execution_count": 35,
   "id": "7421dfb0",
   "metadata": {},
   "outputs": [],
   "source": [
    "if pred>0.50:\n",
    "    classes_x = index[1]\n",
    "else:\n",
    "    classes_x = index[0]"
   ]
  },
  {
   "cell_type": "code",
   "execution_count": 36,
   "id": "903b83d7",
   "metadata": {},
   "outputs": [
    {
     "data": {
      "text/plain": [
       "'Uninfected'"
      ]
     },
     "execution_count": 36,
     "metadata": {},
     "output_type": "execute_result"
    }
   ],
   "source": [
    "classes_x"
   ]
  },
  {
   "cell_type": "code",
   "execution_count": 53,
   "id": "b8a080b9",
   "metadata": {},
   "outputs": [
    {
     "name": "stdout",
     "output_type": "stream",
     "text": [
      "1/1 [==============================] - 0s 266ms/step\n"
     ]
    },
    {
     "data": {
      "text/plain": [
       "0.0"
      ]
     },
     "execution_count": 53,
     "metadata": {},
     "output_type": "execute_result"
    }
   ],
   "source": [
    "img = tensorflow.keras.utils.load_img(r\"C:\\Users\\Kkira\\OneDrive\\Desktop\\mini project\\Malaria\\cell_images\\test\\Parasitized\\C39P4thinF_original_IMG_20150622_110900_cell_14.png\",target_size= (130,130))#loading of the image\n",
    "x = tensorflow.keras.utils.img_to_array(img)#image to array\n",
    "x = np.expand_dims(x,axis = 0)#changing the shape\n",
    "pred = model.predict(x)\n",
    "pred[0][0]"
   ]
  },
  {
   "cell_type": "code",
   "execution_count": 54,
   "id": "1556eb69",
   "metadata": {},
   "outputs": [],
   "source": [
    "if pred>0.50:\n",
    "    classes_x = index[1]\n",
    "else:\n",
    "    classes_x = index[0]"
   ]
  },
  {
   "cell_type": "code",
   "execution_count": 55,
   "id": "2503e1e4",
   "metadata": {},
   "outputs": [
    {
     "data": {
      "text/plain": [
       "'Parasitized'"
      ]
     },
     "execution_count": 55,
     "metadata": {},
     "output_type": "execute_result"
    }
   ],
   "source": [
    "classes_x"
   ]
  },
  {
   "cell_type": "code",
   "execution_count": 44,
   "id": "86cae78d",
   "metadata": {},
   "outputs": [
    {
     "name": "stdout",
     "output_type": "stream",
     "text": [
      "1/1 [==============================] - 0s 312ms/step\n"
     ]
    },
    {
     "data": {
      "text/plain": [
       "1.0"
      ]
     },
     "execution_count": 44,
     "metadata": {},
     "output_type": "execute_result"
    }
   ],
   "source": [
    "img = tensorflow.keras.utils.load_img(r\"C:\\Users\\Kkira\\OneDrive\\Desktop\\mini project\\Malaria\\cell_images\\test\\Uninfected\\C2NThinF_IMG_20150604_114730_cell_113.png\",target_size= (130,130))#loading of the image\n",
    "x = tensorflow.keras.utils.img_to_array(img)#image to array\n",
    "x = np.expand_dims(x,axis = 0)#changing the shape\n",
    "pred = model.predict(x)\n",
    "pred[0][0]"
   ]
  },
  {
   "cell_type": "code",
   "execution_count": 45,
   "id": "5c096e76",
   "metadata": {},
   "outputs": [],
   "source": [
    "if pred>0.50:\n",
    "    classes_x = index[1]\n",
    "else:\n",
    "    classes_x = index[0]"
   ]
  },
  {
   "cell_type": "code",
   "execution_count": 46,
   "id": "4ff3af2f",
   "metadata": {},
   "outputs": [
    {
     "data": {
      "text/plain": [
       "'Uninfected'"
      ]
     },
     "execution_count": 46,
     "metadata": {},
     "output_type": "execute_result"
    }
   ],
   "source": [
    "classes_x"
   ]
  },
  {
   "cell_type": "markdown",
   "id": "3c53aef7",
   "metadata": {},
   "source": [
    "# Model Accuracy: 95.60%"
   ]
  },
  {
   "cell_type": "code",
   "execution_count": null,
   "id": "b16b23a9",
   "metadata": {},
   "outputs": [],
   "source": []
  }
 ],
 "metadata": {
  "kernelspec": {
   "display_name": "Python 3 (ipykernel)",
   "language": "python",
   "name": "python3"
  },
  "language_info": {
   "codemirror_mode": {
    "name": "ipython",
    "version": 3
   },
   "file_extension": ".py",
   "mimetype": "text/x-python",
   "name": "python",
   "nbconvert_exporter": "python",
   "pygments_lexer": "ipython3",
   "version": "3.9.12"
  }
 },
 "nbformat": 4,
 "nbformat_minor": 5
}
