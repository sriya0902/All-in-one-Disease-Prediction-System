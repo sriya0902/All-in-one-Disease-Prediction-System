{
 "cells": [
  {
   "cell_type": "markdown",
   "id": "f25bdc7a",
   "metadata": {},
   "source": [
    "## Classifying ECG Images using CNN"
   ]
  },
  {
   "cell_type": "markdown",
   "id": "6d6e716c",
   "metadata": {},
   "source": [
    "# 1. Import Necessary Libraries"
   ]
  },
  {
   "cell_type": "code",
   "execution_count": 15,
   "id": "7471bc91",
   "metadata": {},
   "outputs": [],
   "source": [
    "import numpy as np                                                   \n",
    "import tensorflow                                                    \n",
    "from tensorflow.keras.models import Sequential                        \n",
    "from tensorflow.keras import layers                  \n",
    "from tensorflow.keras.layers import Dense,Flatten\n",
    "from tensorflow.keras.layers import Conv2D,MaxPooling2D                 \n",
    "from keras.preprocessing.image import ImageDataGenerator                                                       "
   ]
  },
  {
   "cell_type": "markdown",
   "id": "a332a86d",
   "metadata": {},
   "source": [
    "# 2. Image Data Augementation"
   ]
  },
  {
   "cell_type": "code",
   "execution_count": 16,
   "id": "8b981d12",
   "metadata": {},
   "outputs": [],
   "source": [
    "train_datagen=ImageDataGenerator(rescale=1./255,shear_range=0.2,zoom_range=0.2,horizontal_flip=True)  #training"
   ]
  },
  {
   "cell_type": "code",
   "execution_count": 17,
   "id": "10b365aa",
   "metadata": {},
   "outputs": [],
   "source": [
    "test_datagen=ImageDataGenerator(rescale=1./255) #testing"
   ]
  },
  {
   "cell_type": "markdown",
   "id": "953cd692",
   "metadata": {},
   "source": [
    "# 3. Loading our data and performing data agumentation"
   ]
  },
  {
   "cell_type": "code",
   "execution_count": 18,
   "id": "d231b1f1",
   "metadata": {},
   "outputs": [
    {
     "name": "stdout",
     "output_type": "stream",
     "text": [
      "Found 15341 images belonging to 6 classes.\n",
      "Found 6825 images belonging to 6 classes.\n"
     ]
    }
   ],
   "source": [
    "x_train=train_datagen.flow_from_directory(r'C:\\Users\\Kkira\\OneDrive\\Desktop\\mini project\\ECG Arrhythmia\\train'\n",
    "                                          ,target_size=(64,64),batch_size=32,class_mode='categorical')\n",
    "\n",
    "x_test=test_datagen.flow_from_directory(r'C:\\Users\\Kkira\\OneDrive\\Desktop\\mini project\\ECG Arrhythmia\\test'\n",
    "                                        ,target_size=(64,64),batch_size=32,class_mode='categorical')"
   ]
  },
  {
   "cell_type": "code",
   "execution_count": 19,
   "id": "e500a434",
   "metadata": {},
   "outputs": [
    {
     "name": "stdout",
     "output_type": "stream",
     "text": [
      "{'Left Bundle Branch Block': 0, 'Normal': 1, 'Premature Atrial Contraction': 2, 'Premature Ventricular Contractions': 3, 'Right Bundle Branch Block': 4, 'Ventricular Fibrillation': 5}\n"
     ]
    }
   ],
   "source": [
    "print(x_train.class_indices) "
   ]
  },
  {
   "cell_type": "code",
   "execution_count": 20,
   "id": "de0e8ad4",
   "metadata": {},
   "outputs": [
    {
     "data": {
      "text/plain": [
       "Counter({0: 504, 1: 7346, 2: 2054, 3: 2759, 4: 2239, 5: 439})"
      ]
     },
     "execution_count": 20,
     "metadata": {},
     "output_type": "execute_result"
    }
   ],
   "source": [
    "from collections import Counter as c\n",
    "c(x_train.labels)"
   ]
  },
  {
   "cell_type": "markdown",
   "id": "23d2c791",
   "metadata": {},
   "source": [
    "# 4. Creating the model"
   ]
  },
  {
   "cell_type": "code",
   "execution_count": 21,
   "id": "db7f98f5",
   "metadata": {},
   "outputs": [],
   "source": [
    "# create model\n",
    "model=Sequential()\n",
    "# adding model layer\n",
    "model.add(Conv2D(32,(3,3),input_shape=(64,64,3),activation='relu'))#convolutional layer\n",
    "model.add(MaxPooling2D(pool_size=(2,2))) #MaxPooling2D-for downsampling the input\n",
    "\n",
    "model.add(Conv2D(32,(3,3),activation='relu'))\n",
    "model.add(MaxPooling2D(pool_size=(2,2)))\n",
    "\n",
    "model.add(Flatten())#flatten the dimension of the image\n",
    "model.add(Dense(32))#deeply connected neural network layers.\n",
    "model.add(Dense(6,activation='softmax'))#output layer with 6 neurons"
   ]
  },
  {
   "cell_type": "code",
   "execution_count": 22,
   "id": "ca5f70a0",
   "metadata": {},
   "outputs": [
    {
     "name": "stdout",
     "output_type": "stream",
     "text": [
      "Model: \"sequential_1\"\n",
      "_________________________________________________________________\n",
      " Layer (type)                Output Shape              Param #   \n",
      "=================================================================\n",
      " conv2d_2 (Conv2D)           (None, 62, 62, 32)        896       \n",
      "                                                                 \n",
      " max_pooling2d_2 (MaxPooling  (None, 31, 31, 32)       0         \n",
      " 2D)                                                             \n",
      "                                                                 \n",
      " conv2d_3 (Conv2D)           (None, 29, 29, 32)        9248      \n",
      "                                                                 \n",
      " max_pooling2d_3 (MaxPooling  (None, 14, 14, 32)       0         \n",
      " 2D)                                                             \n",
      "                                                                 \n",
      " flatten_1 (Flatten)         (None, 6272)              0         \n",
      "                                                                 \n",
      " dense_2 (Dense)             (None, 32)                200736    \n",
      "                                                                 \n",
      " dense_3 (Dense)             (None, 6)                 198       \n",
      "                                                                 \n",
      "=================================================================\n",
      "Total params: 211,078\n",
      "Trainable params: 211,078\n",
      "Non-trainable params: 0\n",
      "_________________________________________________________________\n"
     ]
    }
   ],
   "source": [
    "model.summary()#summary of our model"
   ]
  },
  {
   "cell_type": "markdown",
   "id": "2ca5148a",
   "metadata": {},
   "source": [
    "# 5. Compiling the model"
   ]
  },
  {
   "cell_type": "code",
   "execution_count": 23,
   "id": "9cbc1cac",
   "metadata": {},
   "outputs": [],
   "source": [
    "model.compile(optimizer='adam',loss='categorical_crossentropy',metrics=['accuracy'])"
   ]
  },
  {
   "cell_type": "markdown",
   "id": "d0f07ff1",
   "metadata": {},
   "source": [
    "# 6. Fitting the model"
   ]
  },
  {
   "cell_type": "code",
   "execution_count": 24,
   "id": "efd397b6",
   "metadata": {},
   "outputs": [
    {
     "name": "stderr",
     "output_type": "stream",
     "text": [
      "C:\\Users\\Kkira\\AppData\\Local\\Temp\\ipykernel_592\\1433457599.py:2: UserWarning: `Model.fit_generator` is deprecated and will be removed in a future version. Please use `Model.fit`, which supports generators.\n",
      "  model.fit_generator(generator=x_train,steps_per_epoch = len(x_train),\n"
     ]
    },
    {
     "name": "stdout",
     "output_type": "stream",
     "text": [
      "Epoch 1/10\n",
      "480/480 [==============================] - 401s 831ms/step - loss: 0.9343 - accuracy: 0.6769 - val_loss: 0.5611 - val_accuracy: 0.8188\n",
      "Epoch 2/10\n",
      "480/480 [==============================] - 267s 555ms/step - loss: 0.3126 - accuracy: 0.9063 - val_loss: 0.4778 - val_accuracy: 0.8418\n",
      "Epoch 3/10\n",
      "480/480 [==============================] - 243s 506ms/step - loss: 0.2637 - accuracy: 0.9227 - val_loss: 0.4564 - val_accuracy: 0.8577\n",
      "Epoch 4/10\n",
      "480/480 [==============================] - 238s 495ms/step - loss: 0.2264 - accuracy: 0.9359 - val_loss: 0.3337 - val_accuracy: 0.8866\n",
      "Epoch 5/10\n",
      "480/480 [==============================] - 241s 502ms/step - loss: 0.1901 - accuracy: 0.9443 - val_loss: 0.3072 - val_accuracy: 0.9020\n",
      "Epoch 6/10\n",
      "480/480 [==============================] - 242s 504ms/step - loss: 0.1771 - accuracy: 0.9472 - val_loss: 0.3214 - val_accuracy: 0.8905\n",
      "Epoch 7/10\n",
      "480/480 [==============================] - 240s 501ms/step - loss: 0.1632 - accuracy: 0.9510 - val_loss: 0.3096 - val_accuracy: 0.9102\n",
      "Epoch 8/10\n",
      "480/480 [==============================] - 246s 512ms/step - loss: 0.1464 - accuracy: 0.9547 - val_loss: 0.3465 - val_accuracy: 0.8933\n",
      "Epoch 9/10\n",
      "480/480 [==============================] - 259s 539ms/step - loss: 0.1408 - accuracy: 0.9555 - val_loss: 0.2967 - val_accuracy: 0.9049\n",
      "Epoch 10/10\n",
      "480/480 [==============================] - 252s 525ms/step - loss: 0.1342 - accuracy: 0.9589 - val_loss: 0.2857 - val_accuracy: 0.9152\n"
     ]
    },
    {
     "data": {
      "text/plain": [
       "<keras.callbacks.History at 0x21e5f1c5310>"
      ]
     },
     "execution_count": 24,
     "metadata": {},
     "output_type": "execute_result"
    }
   ],
   "source": [
    "# Fit the model\n",
    "model.fit_generator(generator=x_train,steps_per_epoch = len(x_train),\n",
    "                    epochs=10, validation_data=x_test,validation_steps = len(x_test))"
   ]
  },
  {
   "cell_type": "markdown",
   "id": "45735fc7",
   "metadata": {},
   "source": [
    "# 7. Saving our Model"
   ]
  },
  {
   "cell_type": "code",
   "execution_count": 25,
   "id": "25572d97",
   "metadata": {},
   "outputs": [],
   "source": [
    "model.save('ECG.h5')"
   ]
  },
  {
   "cell_type": "markdown",
   "id": "4050b7c2",
   "metadata": {},
   "source": [
    "# 8. Result Prediction"
   ]
  },
  {
   "cell_type": "code",
   "execution_count": 26,
   "id": "7ef5dea4",
   "metadata": {},
   "outputs": [],
   "source": [
    "from tensorflow.keras.models import load_model\n",
    "from keras.preprocessing import image\n",
    "model = load_model(\"ECG.h5\") "
   ]
  },
  {
   "cell_type": "code",
   "execution_count": 27,
   "id": "841ff305",
   "metadata": {},
   "outputs": [
    {
     "name": "stdout",
     "output_type": "stream",
     "text": [
      "1/1 [==============================] - 0s 312ms/step\n"
     ]
    },
    {
     "data": {
      "text/plain": [
       "array([0], dtype=int64)"
      ]
     },
     "execution_count": 27,
     "metadata": {},
     "output_type": "execute_result"
    }
   ],
   "source": [
    "img = tensorflow.keras.utils.load_img(r\"C:\\Users\\Kkira\\OneDrive\\Desktop\\mini project\\ECG Arrhythmia\\ECG evaluation\\lbbb.png\",target_size= (64,64))#loading of the image\n",
    "x = tensorflow.keras.utils.img_to_array(img)#image to array\n",
    "x = np.expand_dims(x,axis = 0)#changing the shape\n",
    "pred = model.predict(x)\n",
    "classes_x=np.argmax(pred,axis=1)#predicting the classes\n",
    "classes_x"
   ]
  },
  {
   "cell_type": "code",
   "execution_count": 28,
   "id": "d9eb7a62",
   "metadata": {},
   "outputs": [
    {
     "data": {
      "text/plain": [
       "'Left Bundle Branch Block'"
      ]
     },
     "execution_count": 28,
     "metadata": {},
     "output_type": "execute_result"
    }
   ],
   "source": [
    "index=['Left Bundle Branch Block','Normal','Premature Atrial Contraction',\n",
    "       'Premature Ventricular Contractions', 'Right Bundle Branch Block','Ventricular Fibrillation']\n",
    "result=str(index[classes_x[0]])\n",
    "result"
   ]
  },
  {
   "cell_type": "code",
   "execution_count": 29,
   "id": "5b2cec32",
   "metadata": {
    "scrolled": true
   },
   "outputs": [
    {
     "name": "stdout",
     "output_type": "stream",
     "text": [
      "1/1 [==============================] - 0s 47ms/step\n"
     ]
    },
    {
     "data": {
      "text/plain": [
       "array([1], dtype=int64)"
      ]
     },
     "execution_count": 29,
     "metadata": {},
     "output_type": "execute_result"
    }
   ],
   "source": [
    "img = tensorflow.keras.utils.load_img(r\"C:\\Users\\Kkira\\OneDrive\\Desktop\\mini project\\ECG Arrhythmia\\ECG evaluation\\normal.png\",target_size= (64,64))#loading of the image\n",
    "x = tensorflow.keras.utils.img_to_array(img)#image to array\n",
    "x = np.expand_dims(x,axis = 0)#changing the shape\n",
    "pred = model.predict(x)\n",
    "classes_x=np.argmax(pred,axis=1)#predicting the classes\n",
    "classes_x"
   ]
  },
  {
   "cell_type": "code",
   "execution_count": 30,
   "id": "5dc2f162",
   "metadata": {},
   "outputs": [
    {
     "data": {
      "text/plain": [
       "'Normal'"
      ]
     },
     "execution_count": 30,
     "metadata": {},
     "output_type": "execute_result"
    }
   ],
   "source": [
    "index=['Left Bundle Branch Block','Normal','Premature Atrial Contraction',\n",
    "       'Premature Ventricular Contractions', 'Right Bundle Branch Block','Ventricular Fibrillation']\n",
    "result=str(index[classes_x[0]])\n",
    "result"
   ]
  },
  {
   "cell_type": "code",
   "execution_count": 31,
   "id": "ce1db914",
   "metadata": {},
   "outputs": [
    {
     "name": "stdout",
     "output_type": "stream",
     "text": [
      "1/1 [==============================] - 0s 47ms/step\n"
     ]
    },
    {
     "data": {
      "text/plain": [
       "array([2], dtype=int64)"
      ]
     },
     "execution_count": 31,
     "metadata": {},
     "output_type": "execute_result"
    }
   ],
   "source": [
    "img = tensorflow.keras.utils.load_img(r\"C:\\Users\\Kkira\\OneDrive\\Desktop\\mini project\\ECG Arrhythmia\\ECG evaluation\\pac.png\",target_size= (64,64))#loading of the image\n",
    "x = tensorflow.keras.utils.img_to_array(img)#image to array\n",
    "x = np.expand_dims(x,axis = 0)#changing the shape\n",
    "pred = model.predict(x)\n",
    "classes_x=np.argmax(pred,axis=1)#predicting the classes\n",
    "classes_x"
   ]
  },
  {
   "cell_type": "code",
   "execution_count": 32,
   "id": "1513f710",
   "metadata": {},
   "outputs": [
    {
     "name": "stdout",
     "output_type": "stream",
     "text": [
      "1/1 [==============================] - 0s 47ms/step\n"
     ]
    },
    {
     "data": {
      "text/plain": [
       "array([3], dtype=int64)"
      ]
     },
     "execution_count": 32,
     "metadata": {},
     "output_type": "execute_result"
    }
   ],
   "source": [
    "img = tensorflow.keras.utils.load_img(r\"C:\\Users\\Kkira\\OneDrive\\Desktop\\mini project\\ECG Arrhythmia\\ECG evaluation\\pvc.png\",target_size= (64,64))#loading of the image\n",
    "x = tensorflow.keras.utils.img_to_array(img)#image to array\n",
    "x = np.expand_dims(x,axis = 0)#changing the shape\n",
    "pred = model.predict(x)\n",
    "classes_x=np.argmax(pred,axis=1)#predicting the classes\n",
    "classes_x"
   ]
  },
  {
   "cell_type": "code",
   "execution_count": 33,
   "id": "983e4253",
   "metadata": {},
   "outputs": [
    {
     "data": {
      "text/plain": [
       "'Premature Ventricular Contractions'"
      ]
     },
     "execution_count": 33,
     "metadata": {},
     "output_type": "execute_result"
    }
   ],
   "source": [
    "index=['Left Bundle Branch Block','Normal','Premature Atrial Contraction',\n",
    "       'Premature Ventricular Contractions', 'Right Bundle Branch Block','Ventricular Fibrillation']\n",
    "result=str(index[classes_x[0]])\n",
    "result"
   ]
  },
  {
   "cell_type": "code",
   "execution_count": 34,
   "id": "ca02d3e1",
   "metadata": {},
   "outputs": [
    {
     "name": "stdout",
     "output_type": "stream",
     "text": [
      "1/1 [==============================] - 0s 47ms/step\n"
     ]
    },
    {
     "data": {
      "text/plain": [
       "array([4], dtype=int64)"
      ]
     },
     "execution_count": 34,
     "metadata": {},
     "output_type": "execute_result"
    }
   ],
   "source": [
    "img = tensorflow.keras.utils.load_img(r\"C:\\Users\\Kkira\\OneDrive\\Desktop\\mini project\\ECG Arrhythmia\\ECG evaluation\\rbbb.png\",target_size= (64,64))#loading of the image\n",
    "x = tensorflow.keras.utils.img_to_array(img)#image to array\n",
    "x = np.expand_dims(x,axis = 0)#changing the shape\n",
    "pred = model.predict(x)\n",
    "classes_x=np.argmax(pred,axis=1)#predicting the classes\n",
    "classes_x"
   ]
  },
  {
   "cell_type": "code",
   "execution_count": 35,
   "id": "b88f107f",
   "metadata": {},
   "outputs": [
    {
     "data": {
      "text/plain": [
       "'Right Bundle Branch Block'"
      ]
     },
     "execution_count": 35,
     "metadata": {},
     "output_type": "execute_result"
    }
   ],
   "source": [
    "index=['Left Bundle Branch Block','Normal','Premature Atrial Contraction',\n",
    "       'Premature Ventricular Contractions', 'Right Bundle Branch Block','Ventricular Fibrillation']\n",
    "result=str(index[classes_x[0]])\n",
    "result"
   ]
  },
  {
   "cell_type": "code",
   "execution_count": 36,
   "id": "35329b8f",
   "metadata": {},
   "outputs": [
    {
     "name": "stdout",
     "output_type": "stream",
     "text": [
      "1/1 [==============================] - 0s 62ms/step\n"
     ]
    },
    {
     "data": {
      "text/plain": [
       "array([5], dtype=int64)"
      ]
     },
     "execution_count": 36,
     "metadata": {},
     "output_type": "execute_result"
    }
   ],
   "source": [
    "img = tensorflow.keras.utils.load_img(r\"C:\\Users\\Kkira\\OneDrive\\Desktop\\mini project\\ECG Arrhythmia\\ECG evaluation\\vf.png\",target_size= (64,64))#loading of the image\n",
    "x = tensorflow.keras.utils.img_to_array(img)#image to array\n",
    "x = np.expand_dims(x,axis = 0)#changing the shape\n",
    "pred = model.predict(x)\n",
    "classes_x=np.argmax(pred,axis=1)#predicting the classes\n",
    "classes_x"
   ]
  },
  {
   "cell_type": "code",
   "execution_count": 37,
   "id": "0fba86eb",
   "metadata": {},
   "outputs": [
    {
     "data": {
      "text/plain": [
       "'Ventricular Fibrillation'"
      ]
     },
     "execution_count": 37,
     "metadata": {},
     "output_type": "execute_result"
    }
   ],
   "source": [
    "index=['Left Bundle Branch Block','Normal','Premature Atrial Contraction',\n",
    "       'Premature Ventricular Contractions', 'Right Bundle Branch Block','Ventricular Fibrillation']\n",
    "result=str(index[classes_x[0]])\n",
    "result"
   ]
  },
  {
   "cell_type": "code",
   "execution_count": null,
   "id": "98a9b1e3",
   "metadata": {},
   "outputs": [],
   "source": []
  }
 ],
 "metadata": {
  "kernelspec": {
   "display_name": "Python 3 (ipykernel)",
   "language": "python",
   "name": "python3"
  },
  "language_info": {
   "codemirror_mode": {
    "name": "ipython",
    "version": 3
   },
   "file_extension": ".py",
   "mimetype": "text/x-python",
   "name": "python",
   "nbconvert_exporter": "python",
   "pygments_lexer": "ipython3",
   "version": "3.9.12"
  }
 },
 "nbformat": 4,
 "nbformat_minor": 5
}
